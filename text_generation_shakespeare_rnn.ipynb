{
 "cells": [
  {
   "cell_type": "markdown",
   "metadata": {
    "id": "JL3ZPJPgC4wC"
   },
   "source": [
    "# Shakespeare Text Generation (using RNN LSTM)"
   ]
  },
  {
   "cell_type": "markdown",
   "metadata": {
    "id": "eoWGtkL8PPJ3"
   },
   "source": [
    "> - 🤖 See [full list of Machine Learning Experiments](https://github.com/trekhleb/machine-learning-experiments) on **GitHub**<br/><br/>\n",
    "> - ▶️ **Interactive Demo**: [try this model and other machine learning experiments in action](https://trekhleb.github.io/machine-learning-experiments/)"
   ]
  },
  {
   "cell_type": "markdown",
   "metadata": {
    "id": "bui0MyTjv1Mp"
   },
   "source": [
    "## Experiment overview\n",
    "\n",
    "In this experiment we will use character-based [Recurrent Neural Network](https://en.wikipedia.org/wiki/Recurrent_neural_network) (RNN) to generate a Shakespeare's-like text based on the Shakespeare dataset from [The Unreasonable Effectiveness of Recurrent Neural Networks](http://karpathy.github.io/2015/05/21/rnn-effectiveness/) blog post.\n",
    "\n",
    "For this experiment we will use [Tensorflow v2](https://www.tensorflow.org/) with its [Keras API](https://www.tensorflow.org/guide/keras).\n",
    "\n",
    "![text_generation_shakespeare_rnn.jpg](https://github.com/trekhleb/machine-learning-experiments/blob/master/demos/src/images/text_generation_shakespeare_rnn.jpg?raw=1)"
   ]
  },
  {
   "cell_type": "markdown",
   "metadata": {
    "id": "3XxEZuRNIzHH"
   },
   "source": [
    "_Inspired by [Text generation with an RNN](https://www.tensorflow.org/tutorials/text/text_generation)_"
   ]
  },
  {
   "cell_type": "markdown",
   "metadata": {
    "id": "IDJctDhhEDTD"
   },
   "source": [
    "## Import dependencies"
   ]
  },
  {
   "cell_type": "code",
   "execution_count": 1,
   "metadata": {
    "id": "Z2xZnxncD2Ep"
   },
   "outputs": [],
   "source": [
    "# Selecting Tensorflow version v2 (the command is relevant for Colab only).\n",
    "# %tensorflow_version 2.x"
   ]
  },
  {
   "cell_type": "code",
   "metadata": {
    "colab": {
     "base_uri": "https://localhost:8080/"
    },
    "id": "SpueB6zADYgE",
    "outputId": "ab4b7794-410e-4d08-bbb5-c6a81326fc25",
    "ExecuteTime": {
     "end_time": "2024-07-18T23:25:24.373630Z",
     "start_time": "2024-07-18T23:25:23.220387Z"
    }
   },
   "source": [
    "import  torch\n",
    "import matplotlib.pyplot as plt\n",
    "import numpy as np\n",
    "import platform\n",
    "import time\n",
    "import pathlib\n",
    "import os\n",
    "\n",
    "print('Python version:', platform.python_version())\n",
    "print('Tensorflow version:', torch.__version__)\n"
   ],
   "outputs": [
    {
     "name": "stdout",
     "output_type": "stream",
     "text": [
      "Python version: 3.9.19\n",
      "Tensorflow version: 2.3.1\n"
     ]
    }
   ],
   "execution_count": 1
  },
  {
   "cell_type": "markdown",
   "metadata": {
    "id": "ciI_JnnNEGCw"
   },
   "source": [
    "## Download the dataset"
   ]
  },
  {
   "cell_type": "code",
   "metadata": {
    "colab": {
     "base_uri": "https://localhost:8080/"
    },
    "id": "Vk2HldshEOph",
    "outputId": "48465e69-b2da-4453-f109-b108daf2573e",
    "ExecuteTime": {
     "end_time": "2024-07-18T23:30:08.613683Z",
     "start_time": "2024-07-18T23:30:08.312201Z"
    }
   },
   "source": [
    "cache_dir = './tmp'\n",
    "dataset_file_name = 'shakespeare.txt'\n",
    "dataset_file_origin = 'https://storage.googleapis.com/download.tensorflow.org/data/shakespeare.txt'\n",
    "# Create a cache directory.\n",
    "cache_dir_path = pathlib.Path(cache_dir).absolute()\n",
    "cache_dir_path.mkdir(parents=True,exist_ok=True)\n",
    "\n",
    "# Download the dataset.\n",
    "dataset_file_path = cache_dir_path/dataset_file_name\n",
    "torch.hub.download_url_to_file(dataset_file_origin,dataset_file_path)\n",
    "\n",
    "print(f\"Dataset file downloaded to {dataset_file_path}\")"
   ],
   "outputs": [
    {
     "name": "stderr",
     "output_type": "stream",
     "text": [
      "100.0%"
     ]
    },
    {
     "name": "stdout",
     "output_type": "stream",
     "text": [
      "Dataset file downloaded to /Users/aaronpang/PycharmProjects/FedAvg/tmp/shakespeare.txt\n"
     ]
    },
    {
     "name": "stderr",
     "output_type": "stream",
     "text": [
      "\n"
     ]
    }
   ],
   "execution_count": 3
  },
  {
   "cell_type": "markdown",
   "metadata": {
    "id": "eKTy6YS5Gx-g"
   },
   "source": [
    "## Analyze the dataset"
   ]
  },
  {
   "cell_type": "code",
   "metadata": {
    "colab": {
     "base_uri": "https://localhost:8080/"
    },
    "id": "CzfX7hK8G0bn",
    "outputId": "1db62c2a-f055-4380-eb12-dfca61bb4ff8",
    "ExecuteTime": {
     "end_time": "2024-07-18T23:30:20.486671Z",
     "start_time": "2024-07-18T23:30:20.483362Z"
    }
   },
   "source": [
    "# Reading the database file.\n",
    "text = open(dataset_file_path, mode='r').read()\n",
    "\n",
    "print('Length of text: {} characters'.format(len(text)))"
   ],
   "outputs": [
    {
     "name": "stdout",
     "output_type": "stream",
     "text": [
      "Length of text: 1115394 characters\n"
     ]
    }
   ],
   "execution_count": 4
  },
  {
   "cell_type": "code",
   "metadata": {
    "colab": {
     "base_uri": "https://localhost:8080/"
    },
    "id": "nknOAOuoH-Av",
    "outputId": "a0d8581d-3ee9-4673-9f12-40d0d5288d8d",
    "ExecuteTime": {
     "end_time": "2024-07-18T23:30:25.016654Z",
     "start_time": "2024-07-18T23:30:25.013891Z"
    }
   },
   "source": [
    "# Take a look at the first 250 characters in text.\n",
    "print(text[:250])"
   ],
   "outputs": [
    {
     "name": "stdout",
     "output_type": "stream",
     "text": [
      "First Citizen:\n",
      "Before we proceed any further, hear me speak.\n",
      "\n",
      "All:\n",
      "Speak, speak.\n",
      "\n",
      "First Citizen:\n",
      "You are all resolved rather to die than to famish?\n",
      "\n",
      "All:\n",
      "Resolved. resolved.\n",
      "\n",
      "First Citizen:\n",
      "First, you know Caius Marcius is chief enemy to the people.\n",
      "\n"
     ]
    }
   ],
   "execution_count": 5
  },
  {
   "cell_type": "code",
   "metadata": {
    "colab": {
     "base_uri": "https://localhost:8080/"
    },
    "id": "VPXkB5bOITqi",
    "outputId": "f44da9f4-98aa-4170-f3f3-6c9837b4cf1b",
    "ExecuteTime": {
     "end_time": "2024-07-18T23:30:32.648209Z",
     "start_time": "2024-07-18T23:30:32.637623Z"
    }
   },
   "source": [
    "# The unique characters in the file\n",
    "vocab = sorted(set(text))\n",
    "\n",
    "print('{} unique characters'.format(len(vocab)))\n",
    "print('vocab:', vocab)"
   ],
   "outputs": [
    {
     "name": "stdout",
     "output_type": "stream",
     "text": [
      "65 unique characters\n",
      "vocab: ['\\n', ' ', '!', '$', '&', \"'\", ',', '-', '.', '3', ':', ';', '?', 'A', 'B', 'C', 'D', 'E', 'F', 'G', 'H', 'I', 'J', 'K', 'L', 'M', 'N', 'O', 'P', 'Q', 'R', 'S', 'T', 'U', 'V', 'W', 'X', 'Y', 'Z', 'a', 'b', 'c', 'd', 'e', 'f', 'g', 'h', 'i', 'j', 'k', 'l', 'm', 'n', 'o', 'p', 'q', 'r', 's', 't', 'u', 'v', 'w', 'x', 'y', 'z']\n"
     ]
    }
   ],
   "execution_count": 6
  },
  {
   "cell_type": "markdown",
   "metadata": {
    "id": "GqpuKh9HMNnf"
   },
   "source": [
    "## Process the dataset"
   ]
  },
  {
   "cell_type": "markdown",
   "metadata": {
    "id": "6dj4e-AGMaV4"
   },
   "source": [
    "### Vectorize the text\n",
    "\n",
    "Before feeding the text to our RNN we need to convert the text from a sequence of characters to a sequence of numbers. To do so we will detect all unique characters in the text, form a vocabulary out of it and replace each character with its index in the vocabulary."
   ]
  },
  {
   "cell_type": "code",
   "metadata": {
    "colab": {
     "base_uri": "https://localhost:8080/"
    },
    "id": "xFFpuXfGMPq2",
    "outputId": "2b3dc7a9-9b3d-464e-ae3c-e64aecbb1f78",
    "ExecuteTime": {
     "end_time": "2024-07-18T23:30:59.991269Z",
     "start_time": "2024-07-18T23:30:59.988250Z"
    }
   },
   "source": [
    "# Map characters to their indices in vocabulary.\n",
    "char2index = {char: index for index, char in enumerate(vocab)}\n",
    "\n",
    "print('{')\n",
    "for char, _ in zip(char2index, range(20)):\n",
    "    print('  {:4s}: {:3d},'.format(repr(char), char2index[char]))\n",
    "print('  ...\\n}')"
   ],
   "outputs": [
    {
     "name": "stdout",
     "output_type": "stream",
     "text": [
      "{\n",
      "  '\\n':   0,\n",
      "  ' ' :   1,\n",
      "  '!' :   2,\n",
      "  '$' :   3,\n",
      "  '&' :   4,\n",
      "  \"'\" :   5,\n",
      "  ',' :   6,\n",
      "  '-' :   7,\n",
      "  '.' :   8,\n",
      "  '3' :   9,\n",
      "  ':' :  10,\n",
      "  ';' :  11,\n",
      "  '?' :  12,\n",
      "  'A' :  13,\n",
      "  'B' :  14,\n",
      "  'C' :  15,\n",
      "  'D' :  16,\n",
      "  'E' :  17,\n",
      "  'F' :  18,\n",
      "  'G' :  19,\n",
      "  ...\n",
      "}\n"
     ]
    }
   ],
   "execution_count": 7
  },
  {
   "cell_type": "code",
   "metadata": {
    "colab": {
     "base_uri": "https://localhost:8080/"
    },
    "id": "lQB33zI7NkRo",
    "outputId": "dea1cdac-cf9f-4192-c36b-51ee14576789",
    "ExecuteTime": {
     "end_time": "2024-07-18T23:31:14.424158Z",
     "start_time": "2024-07-18T23:31:14.421159Z"
    }
   },
   "source": [
    "# Map character indices to characters from vacabulary.\n",
    "index2char = np.array(vocab)\n",
    "print(index2char)"
   ],
   "outputs": [
    {
     "name": "stdout",
     "output_type": "stream",
     "text": [
      "['\\n' ' ' '!' '$' '&' \"'\" ',' '-' '.' '3' ':' ';' '?' 'A' 'B' 'C' 'D' 'E'\n",
      " 'F' 'G' 'H' 'I' 'J' 'K' 'L' 'M' 'N' 'O' 'P' 'Q' 'R' 'S' 'T' 'U' 'V' 'W'\n",
      " 'X' 'Y' 'Z' 'a' 'b' 'c' 'd' 'e' 'f' 'g' 'h' 'i' 'j' 'k' 'l' 'm' 'n' 'o'\n",
      " 'p' 'q' 'r' 's' 't' 'u' 'v' 'w' 'x' 'y' 'z']\n"
     ]
    }
   ],
   "execution_count": 8
  },
  {
   "cell_type": "code",
   "metadata": {
    "colab": {
     "base_uri": "https://localhost:8080/"
    },
    "id": "DXUAlYmvN_Rj",
    "outputId": "f21cd96e-c7e1-40e7-feb0-18851e51d82f",
    "ExecuteTime": {
     "end_time": "2024-07-18T23:32:11.548287Z",
     "start_time": "2024-07-18T23:32:11.472963Z"
    }
   },
   "source": [
    "# Convert chars in text to indices.\n",
    "text_as_int = np.array([char2index[char] for char in text])\n",
    "\n",
    "print('text_as_int length: {}'.format(len(text_as_int)))\n",
    "print('{} --> {}'.format(repr(text[:15]), repr(text_as_int[:15])))"
   ],
   "outputs": [
    {
     "name": "stdout",
     "output_type": "stream",
     "text": [
      "text_as_int length: 1115394\n",
      "'First Citizen:\\n' --> array([18, 47, 56, 57, 58,  1, 15, 47, 58, 47, 64, 43, 52, 10,  0])\n"
     ]
    }
   ],
   "execution_count": 9
  },
  {
   "cell_type": "markdown",
   "metadata": {
    "id": "CHv5HhUuTQYS"
   },
   "source": [
    "## Create training sequences"
   ]
  },
  {
   "cell_type": "code",
   "metadata": {
    "colab": {
     "base_uri": "https://localhost:8080/"
    },
    "id": "9tHT8IXGTTtZ",
    "outputId": "b725e4e6-7069-4941-e3b0-6d0e420b626e",
    "ExecuteTime": {
     "end_time": "2024-07-18T23:32:19.453211Z",
     "start_time": "2024-07-18T23:32:19.450356Z"
    }
   },
   "source": [
    "# The maximum length sentence we want for a single input in characters.\n",
    "sequence_length = 100\n",
    "examples_per_epoch = len(text) // (sequence_length + 1)\n",
    "\n",
    "print('examples_per_epoch:', examples_per_epoch)"
   ],
   "outputs": [
    {
     "name": "stdout",
     "output_type": "stream",
     "text": [
      "examples_per_epoch: 11043\n"
     ]
    }
   ],
   "execution_count": 10
  },
  {
   "cell_type": "code",
   "metadata": {
    "colab": {
     "base_uri": "https://localhost:8080/"
    },
    "id": "Pf5tMMDnUP3q",
    "outputId": "f0b884cb-9e97-4389-b57f-48152360d15d",
    "ExecuteTime": {
     "end_time": "2024-07-18T23:54:08.067379Z",
     "start_time": "2024-07-18T23:54:08.061713Z"
    }
   },
   "source": [
    "from torch.utils.data import Dataset\n",
    "\n",
    "\n",
    "class CharDataset(Dataset):\n",
    "    def __init__(self, data, seq_length):\n",
    "        self.data = data\n",
    "        self.seq_length = seq_length\n",
    "\n",
    "    def __len__(self):\n",
    "        return len(self.data) - self.seq_length\n",
    "\n",
    "    def __getitem__(self, idx):\n",
    "        input_text = self.data[idx:idx + self.seq_length]\n",
    "        target_text = self.data[idx + 1:idx + self.seq_length + 1]\n",
    "        return input_text, target_text\n",
    "# transform to pytorch tensor\n",
    "text_as_int_tensor = torch.tensor(text_as_int, dtype=torch.long)\n",
    "# create a dataset\n",
    "char_dataset = CharDataset(torch.tensor(text_as_int, dtype=torch.long), sequence_length)\n",
    "\n",
    "print('char_dataset size:', len(char_dataset))"
   ],
   "outputs": [
    {
     "name": "stdout",
     "output_type": "stream",
     "text": [
      "char_dataset size: 1115294\n"
     ]
    }
   ],
   "execution_count": 18
  },
  {
   "cell_type": "code",
   "metadata": {
    "colab": {
     "base_uri": "https://localhost:8080/"
    },
    "id": "Ap71VjB2Vuct",
    "outputId": "de5b87b8-4829-49d4-e238-17588d2d1a49",
    "ExecuteTime": {
     "end_time": "2024-07-19T00:20:54.923771Z",
     "start_time": "2024-07-19T00:20:54.920211Z"
    }
   },
   "source": [
    "from torch.utils.data import DataLoader\n",
    "\n",
    "# Generate batched sequences out of the char_dataset.\n",
    "dataloader = DataLoader(char_dataset, batch_size=1, shuffle=False)\n",
    "\n",
    "# Sequences size is the same as examples_per_epoch.\n",
    "sequences_count = len(dataloader)\n",
    "print('Sequences count: {}'.format(sequences_count))\n",
    "print()\n",
    "\n",
    "# Sequences examples.\n",
    "index2char = {i: char for char, i in char2index.items()} \n",
    "# for i, batch in enumerate(dataloader):\n",
    "#     if i >= 5:\n",
    "#         break\n",
    "#     sequence = batch[0].numpy()\n",
    "#     print(sequence[0].shape)\n",
    "#     print(repr(''.join([index2char[(idx)] for idx in sequence])))"
   ],
   "outputs": [
    {
     "name": "stdout",
     "output_type": "stream",
     "text": [
      "Sequences count: 1115294\n",
      "\n"
     ]
    }
   ],
   "execution_count": 24
  },
  {
   "cell_type": "code",
   "metadata": {
    "id": "Y8spPCfe-iTn",
    "ExecuteTime": {
     "end_time": "2024-07-19T00:20:57.467143Z",
     "start_time": "2024-07-19T00:20:57.464734Z"
    }
   },
   "source": [
    "# sequences shape:\n",
    "# - 11043 sequences\n",
    "# - Each sequence of length 101\n",
    "#\n",
    "#\n",
    "#    101     101          101\n",
    "# [(.....) (.....) ...  (.....)]\n",
    "#\n",
    "# <---------- 11043 ----------->"
   ],
   "outputs": [],
   "execution_count": 25
  },
  {
   "cell_type": "markdown",
   "metadata": {
    "id": "HdcrcUs4Xxso"
   },
   "source": [
    "For each sequence, duplicate and shift it to form the input and target text. For example, say `sequence_length` is `4` and our text is `Hello`. The input sequence would be `Hell`, and the target sequence `ello`."
   ]
  },
  {
   "cell_type": "code",
   "metadata": {
    "colab": {
     "base_uri": "https://localhost:8080/"
    },
    "id": "454rWIQYXXRY",
    "outputId": "21dcb564-1a7f-4abf-cdb9-a25432a25a0e",
    "ExecuteTime": {
     "end_time": "2024-07-19T00:21:47.560067Z",
     "start_time": "2024-07-19T00:21:47.548250Z"
    }
   },
   "source": [
    "\n",
    "# Dataset size is the same as examples_per_epoch.\n",
    "# But each element of a sequence is now has length of `sequence_length`\n",
    "# and not `sequence_length + 1`.\n"
   ],
   "outputs": [
    {
     "ename": "AttributeError",
     "evalue": "'DataLoader' object has no attribute 'as_numpy_iterator'",
     "output_type": "error",
     "traceback": [
      "\u001B[0;31m---------------------------------------------------------------------------\u001B[0m",
      "\u001B[0;31mAttributeError\u001B[0m                            Traceback (most recent call last)",
      "Cell \u001B[0;32mIn[26], line 4\u001B[0m\n\u001B[1;32m      1\u001B[0m \u001B[38;5;66;03m# Dataset size is the same as examples_per_epoch.\u001B[39;00m\n\u001B[1;32m      2\u001B[0m \u001B[38;5;66;03m# But each element of a sequence is now has length of `sequence_length`\u001B[39;00m\n\u001B[1;32m      3\u001B[0m \u001B[38;5;66;03m# and not `sequence_length + 1`.\u001B[39;00m\n\u001B[0;32m----> 4\u001B[0m \u001B[38;5;28mprint\u001B[39m(\u001B[38;5;124m'\u001B[39m\u001B[38;5;124mdataset size: \u001B[39m\u001B[38;5;132;01m{}\u001B[39;00m\u001B[38;5;124m'\u001B[39m\u001B[38;5;241m.\u001B[39mformat(\u001B[38;5;28mlen\u001B[39m(\u001B[38;5;28mlist\u001B[39m(\u001B[43mdataloader\u001B[49m\u001B[38;5;241;43m.\u001B[39;49m\u001B[43mas_numpy_iterator\u001B[49m()))))\n",
      "\u001B[0;31mAttributeError\u001B[0m: 'DataLoader' object has no attribute 'as_numpy_iterator'"
     ]
    }
   ],
   "execution_count": 26
  },
  {
   "cell_type": "code",
   "metadata": {
    "colab": {
     "base_uri": "https://localhost:8080/"
    },
    "id": "Kuoh4tCdYCck",
    "outputId": "7221baa0-52cc-4f2e-fb90-8010788fd624",
    "ExecuteTime": {
     "end_time": "2024-07-19T00:23:41.421636Z",
     "start_time": "2024-07-19T00:23:41.417235Z"
    }
   },
   "source": [
    "for input_example, target_example in dataloader:\n",
    "    print('Input sequence size:', repr(len(input_example[0])))\n",
    "    print('Target sequence size:', repr(len(target_example[0])))\n",
    "    print()\n",
    "    print('Input:', repr(''.join([index2char[int(idx)] for idx in input_example[0]])))\n",
    "    print('Target:', repr(''.join([index2char[int(idx)] for idx in target_example[0]])))\n",
    "    break"
   ],
   "outputs": [
    {
     "name": "stdout",
     "output_type": "stream",
     "text": [
      "Input sequence size: 100\n",
      "Target sequence size: 100\n",
      "\n",
      "Input: 'First Citizen:\\nBefore we proceed any further, hear me speak.\\n\\nAll:\\nSpeak, speak.\\n\\nFirst Citizen:\\nYou'\n",
      "Target: 'irst Citizen:\\nBefore we proceed any further, hear me speak.\\n\\nAll:\\nSpeak, speak.\\n\\nFirst Citizen:\\nYou '\n"
     ]
    }
   ],
   "execution_count": 27
  },
  {
   "cell_type": "code",
   "metadata": {
    "id": "cp0tl0sN807l",
    "ExecuteTime": {
     "end_time": "2024-07-19T00:23:45.669401Z",
     "start_time": "2024-07-19T00:23:45.666920Z"
    }
   },
   "source": [
    "# dataset shape:\n",
    "# - 11043 sequences\n",
    "# - Each sequence is a tuple of 2 sub-sequences of length 100 (input_text and target_text)\n",
    "#\n",
    "#\n",
    "#    100       100           100\n",
    "# /(.....)\\ /(.....)\\ ... /(.....)\\  <-- input_text\n",
    "# \\(.....)/ \\(.....)/     \\(.....)/  <-- target_text\n",
    "#\n",
    "# <----------- 11043 ------------->"
   ],
   "outputs": [],
   "execution_count": 28
  },
  {
   "cell_type": "markdown",
   "metadata": {
    "id": "BDYHEJ0pY1ai"
   },
   "source": [
    "Each index of these vectors are processed as one time step. For the input at time step 0, the model receives the index for \"F\" and trys to predict the index for \"i\" as the next character. At the next timestep, it does the same thing but the RNN considers the previous step context in addition to the current input character."
   ]
  },
  {
   "cell_type": "code",
   "metadata": {
    "colab": {
     "base_uri": "https://localhost:8080/"
    },
    "id": "C-0zpv53Y2o4",
    "outputId": "f14012c4-4ef2-4a11-d1fc-7750978f1033",
    "ExecuteTime": {
     "end_time": "2024-07-19T00:24:51.213251Z",
     "start_time": "2024-07-19T00:24:51.207953Z"
    }
   },
   "source": [
    "from torch.utils.data import RandomSampler\n",
    "for input_example, target_example in dataloader:\n",
    "    print('Input sequence size:', repr(len(input_example[0])))\n",
    "    print('Target sequence size:', repr(len(target_example[0])))\n",
    "    print()\n",
    "    print('Input:', repr(''.join([index2char[int(idx)] for idx in input_example[0]])))\n",
    "    print('Target:', repr(''.join([index2char[int(idx)] for idx in target_example[0]])))\n",
    "\n",
    "   \n",
    "    for i, (input_idx, target_idx) in enumerate(zip(input_example[0][:5], target_example[0][:5])):\n",
    "        print('Step {:2d}'.format(i))\n",
    "        print('  input: {} ({:s})'.format(input_idx.item(), repr(index2char[input_idx.item()])))\n",
    "        print('  expected output: {} ({:s})'.format(target_idx.item(), repr(index2char[target_idx.item()])))\n",
    "    break "
   ],
   "outputs": [
    {
     "name": "stdout",
     "output_type": "stream",
     "text": [
      "Input sequence size: 100\n",
      "Target sequence size: 100\n",
      "\n",
      "Input: 'First Citizen:\\nBefore we proceed any further, hear me speak.\\n\\nAll:\\nSpeak, speak.\\n\\nFirst Citizen:\\nYou'\n",
      "Target: 'irst Citizen:\\nBefore we proceed any further, hear me speak.\\n\\nAll:\\nSpeak, speak.\\n\\nFirst Citizen:\\nYou '\n",
      "Step  0\n",
      "  input: 18 ('F')\n",
      "  expected output: 47 ('i')\n",
      "Step  1\n",
      "  input: 47 ('i')\n",
      "  expected output: 56 ('r')\n",
      "Step  2\n",
      "  input: 56 ('r')\n",
      "  expected output: 57 ('s')\n",
      "Step  3\n",
      "  input: 57 ('s')\n",
      "  expected output: 58 ('t')\n",
      "Step  4\n",
      "  input: 58 ('t')\n",
      "  expected output: 1 (' ')\n"
     ]
    }
   ],
   "execution_count": 30
  },
  {
   "cell_type": "markdown",
   "metadata": {
    "id": "1iDlp40lC5YB"
   },
   "source": [
    "## Split training sequences into batches\n",
    "\n",
    "We used `tf.data` to split the text into manageable sequences. But before feeding this data into the model, we need to shuffle the data and pack it into batches."
   ]
  },
  {
   "cell_type": "code",
   "metadata": {
    "colab": {
     "base_uri": "https://localhost:8080/"
    },
    "id": "eDq-wa5EC3wW",
    "outputId": "963d5431-53ca-46da-fbd0-f4b8cdf3d75b",
    "ExecuteTime": {
     "end_time": "2024-07-19T00:28:09.813906Z",
     "start_time": "2024-07-19T00:28:09.811251Z"
    }
   },
   "source": [
    "from torch.utils.data import Dataset, DataLoader, RandomSampler\n",
    "# Batch size.\n",
    "BATCH_SIZE = 64\n",
    "\n",
    "# Buffer size to shuffle the dataset (TF data is designed to work\n",
    "# with possibly infinite sequences, so it doesn't attempt to shuffle\n",
    "# the entire sequence in memory. Instead, it maintains a buffer in\n",
    "# which it shuffles elements).\n",
    "BUFFER_SIZE = 10000\n",
    "\n",
    "sampler = RandomSampler(char_dataset, replacement=False)\n",
    "# Create a dataset from the sequences.\n",
    "dataloader = DataLoader(char_dataset, batch_size=BATCH_SIZE, sampler=sampler, drop_last=True)\n",
    "\n",
    "\n"
   ],
   "outputs": [],
   "execution_count": 32
  },
  {
   "cell_type": "code",
   "metadata": {
    "colab": {
     "base_uri": "https://localhost:8080/"
    },
    "id": "1x4puZiiOlyl",
    "outputId": "892664e1-4e20-41b6-a5eb-540f60c27774",
    "ExecuteTime": {
     "end_time": "2024-07-19T00:28:40.180808Z",
     "start_time": "2024-07-19T00:28:40.146145Z"
    }
   },
   "source": [
    "# 打印一个批次的输入序列和目标序列大小及内容\n",
    "for input_example, target_example in dataloader:\n",
    "    print('Input sequence size:', repr(len(input_example[0])))\n",
    "    print('Target sequence size:', repr(len(target_example[0])))\n",
    "    print()\n",
    "    print('Input:', repr(''.join([index2char[int(idx)] for idx in input_example[0]])))\n",
    "    print('Target:', repr(''.join([index2char[int(idx)] for idx in target_example[0]])))\n",
    "\n",
    "   \n",
    "    for i, (input_idx, target_idx) in enumerate(zip(input_example[0][:5], target_example[0][:5])):\n",
    "        print('Step {:2d}'.format(i))\n",
    "        print('  input: {} ({:s})'.format(input_idx.item(), repr(index2char[input_idx.item()])))\n",
    "        print('  expected output: {} ({:s})'.format(target_idx.item(), repr(index2char[target_idx.item()])))\n",
    "    break  "
   ],
   "outputs": [
    {
     "name": "stdout",
     "output_type": "stream",
     "text": [
      "Input sequence size: 100\n",
      "Target sequence size: 100\n",
      "\n",
      "Input: \"\\nIn suffering thus thy brother to be slaughter'd,\\nThou showest the naked pathway to thy life,\\nTeachi\"\n",
      "Target: \"In suffering thus thy brother to be slaughter'd,\\nThou showest the naked pathway to thy life,\\nTeachin\"\n",
      "Step  0\n",
      "  input: 0 ('\\n')\n",
      "  expected output: 21 ('I')\n",
      "Step  1\n",
      "  input: 21 ('I')\n",
      "  expected output: 52 ('n')\n",
      "Step  2\n",
      "  input: 52 ('n')\n",
      "  expected output: 1 (' ')\n",
      "Step  3\n",
      "  input: 1 (' ')\n",
      "  expected output: 57 ('s')\n",
      "Step  4\n",
      "  input: 57 ('s')\n",
      "  expected output: 59 ('u')\n"
     ]
    }
   ],
   "execution_count": 33
  },
  {
   "cell_type": "code",
   "metadata": {
    "colab": {
     "base_uri": "https://localhost:8080/"
    },
    "id": "b_kYgvQGBO0U",
    "outputId": "cbf15bed-0a33-4144-b5b5-fc6a8863ed00",
    "ExecuteTime": {
     "end_time": "2024-07-19T00:29:26.191242Z",
     "start_time": "2024-07-19T00:29:26.158205Z"
    }
   },
   "source": [
    "for input_text, target_text in dataloader:\n",
    "    print('1st batch: input_text:', input_text)\n",
    "    print()\n",
    "    print('1st batch: target_text:', target_text)\n",
    "    break"
   ],
   "outputs": [
    {
     "name": "stdout",
     "output_type": "stream",
     "text": [
      "1st batch: input_text: tensor([[39, 61, 39,  ..., 58, 56, 59],\n",
      "        [47, 58,  1,  ..., 40, 43,  1],\n",
      "        [56, 58, 46,  ...,  1, 39, 56],\n",
      "        ...,\n",
      "        [58, 46, 63,  ...,  1, 58, 46],\n",
      "        [58, 43,  1,  ..., 60, 53, 57],\n",
      "        [58,  1, 44,  ..., 52,  1, 51]])\n",
      "\n",
      "1st batch: target_text: tensor([[61, 39, 63,  ..., 56, 59, 41],\n",
      "        [58,  1, 61,  ..., 43,  1, 44],\n",
      "        [58, 46,  1,  ..., 39, 56, 51],\n",
      "        ...,\n",
      "        [46, 63,  1,  ..., 58, 46, 43],\n",
      "        [43,  1, 51,  ..., 53, 57, 58],\n",
      "        [ 1, 44, 39,  ...,  1, 51, 53]])\n"
     ]
    }
   ],
   "execution_count": 34
  },
  {
   "cell_type": "code",
   "metadata": {
    "id": "UkDCH15v_2I6",
    "ExecuteTime": {
     "end_time": "2024-07-19T00:29:38.673156Z",
     "start_time": "2024-07-19T00:29:38.670934Z"
    }
   },
   "source": [
    "# dataset shape:\n",
    "# - 172 batches\n",
    "# - 64 sequences per batch\n",
    "# - Each sequence is a tuple of 2 sub-sequences of length 100 (input_text and target_text)\n",
    "#\n",
    "#\n",
    "#     100       100           100             100       100           100\n",
    "# |/(.....)\\ /(.....)\\ ... /(.....)\\| ... |/(.....)\\ /(.....)\\ ... /(.....)\\|  <-- input_text\n",
    "# |\\(.....)/ \\(.....)/     \\(.....)/| ... |\\(.....)/ \\(.....)/     \\(.....)/|  <-- target_text\n",
    "#\n",
    "# <------------- 64 ---------------->     <------------- 64 ---------------->\n",
    "#\n",
    "# <--------------------------------- 172 ----------------------------------->"
   ],
   "outputs": [],
   "execution_count": 35
  },
  {
   "cell_type": "markdown",
   "metadata": {
    "id": "ghB-VwLlD-Oz"
   },
   "source": [
    "## Build the model\n",
    "\n",
    "Use [tf.keras.Sequential](https://www.tensorflow.org/api_docs/python/tf/keras/Sequential) to define the model. For this simple example three layers are used to define our model:\n",
    "\n",
    "- [tf.keras.layers.Embedding](https://www.tensorflow.org/api_docs/python/tf/keras/layers/Embedding): The input layer. A trainable lookup table that will map the numbers of each character to a vector with `embedding_dim` dimensions;\n",
    "- [tf.keras.layers.LSTM](https://www.tensorflow.org/api_docs/python/tf/keras/layers/LSTM): A type of RNN with size units=rnn_units (You can also use a GRU layer here.)\n",
    "- [tf.keras.layers.Dense](https://www.tensorflow.org/api_docs/python/tf/keras/layers/Dense): The output layer, with vocab_size outputs."
   ]
  },
  {
   "cell_type": "code",
   "execution_count": 22,
   "metadata": {
    "colab": {
     "base_uri": "https://localhost:8080/"
    },
    "id": "0cg8DlO3QjuT",
    "outputId": "8245d59b-c40f-412f-966f-1060da297ac7"
   },
   "outputs": [
    {
     "output_type": "stream",
     "name": "stdout",
     "text": [
      "1/1 [==============================] - 0s 86ms/step\n",
      "tmp_input_array shape: (2, 8)\n",
      "tmp_input_array:\n",
      "[[1 4 8 9 0 1 9 1]\n",
      " [2 0 2 9 7 4 3 7]]\n",
      "\n",
      "tmp_output_array shape: (2, 8, 5)\n",
      "tmp_output_array:\n",
      "[[[-0.0132779  -0.03334284 -0.03207427 -0.01366842  0.00392176]\n",
      "  [ 0.04571239  0.03155562 -0.003222    0.02832833  0.03711155]\n",
      "  [ 0.0167073  -0.02178857  0.02521649  0.02425206 -0.01864066]\n",
      "  [-0.03676196 -0.00633899 -0.01282347  0.02390226  0.03727164]\n",
      "  [ 0.03050851 -0.00148927 -0.0121984   0.01500933 -0.02329093]\n",
      "  [-0.0132779  -0.03334284 -0.03207427 -0.01366842  0.00392176]\n",
      "  [-0.03676196 -0.00633899 -0.01282347  0.02390226  0.03727164]\n",
      "  [-0.0132779  -0.03334284 -0.03207427 -0.01366842  0.00392176]]\n",
      "\n",
      " [[-0.02808646 -0.0143191  -0.00118178  0.03838519  0.01635638]\n",
      "  [ 0.03050851 -0.00148927 -0.0121984   0.01500933 -0.02329093]\n",
      "  [-0.02808646 -0.0143191  -0.00118178  0.03838519  0.01635638]\n",
      "  [-0.03676196 -0.00633899 -0.01282347  0.02390226  0.03727164]\n",
      "  [-0.01684532  0.0377759  -0.0400447  -0.00338056 -0.03265984]\n",
      "  [ 0.04571239  0.03155562 -0.003222    0.02832833  0.03711155]\n",
      "  [ 0.02284842 -0.00740939  0.00296516 -0.04268276 -0.00797611]\n",
      "  [-0.01684532  0.0377759  -0.0400447  -0.00338056 -0.03265984]]]\n"
     ]
    }
   ],
   "source": [
    "# Let's do a quick detour and see how Embeding layer works.\n",
    "# It takes several char indices sequences (batch) as an input.\n",
    "# It encodes every character of every sequence to a vector of tmp_embeding_size length.\n",
    "tmp_vocab_size = 10\n",
    "tmp_embeding_size = 5\n",
    "tmp_input_length = 8\n",
    "tmp_batch_size = 2\n",
    "\n",
    "tmp_model = tf.keras.models.Sequential()\n",
    "tmp_model.add(tf.keras.layers.Embedding(\n",
    "  input_dim=tmp_vocab_size,\n",
    "  output_dim=tmp_embeding_size,\n",
    "  input_length=tmp_input_length\n",
    "))\n",
    "# The model will take as input an integer matrix of size (batch, input_length).\n",
    "# The largest integer (i.e. word index) in the input should be no larger than 9 (tmp_vocab_size).\n",
    "# Now model.output_shape == (None, 10, 64), where None is the batch dimension.\n",
    "tmp_input_array = np.random.randint(\n",
    "  low=0,\n",
    "  high=tmp_vocab_size,\n",
    "  size=(tmp_batch_size, tmp_input_length)\n",
    ")\n",
    "tmp_model.compile('rmsprop', 'mse')\n",
    "tmp_output_array = tmp_model.predict(tmp_input_array)\n",
    "\n",
    "print('tmp_input_array shape:', tmp_input_array.shape)\n",
    "print('tmp_input_array:')\n",
    "print(tmp_input_array)\n",
    "print()\n",
    "print('tmp_output_array shape:', tmp_output_array.shape)\n",
    "print('tmp_output_array:')\n",
    "print(tmp_output_array)"
   ]
  },
  {
   "cell_type": "code",
   "metadata": {
    "id": "I7ZuvZHBD_pS",
    "ExecuteTime": {
     "end_time": "2024-07-19T00:33:16.345074Z",
     "start_time": "2024-07-19T00:33:16.342283Z"
    }
   },
   "source": [
    "# Length of the vocabulary in chars.\n",
    "vocab_size = len(vocab)\n",
    "\n",
    "# The embedding dimension.\n",
    "embedding_dim = 256\n",
    "\n",
    "# Number of RNN units.\n",
    "\n",
    "rnn_units = 1024"
   ],
   "outputs": [],
   "execution_count": 39
  },
  {
   "cell_type": "code",
   "metadata": {
    "id": "-sojdDCAICWO",
    "ExecuteTime": {
     "end_time": "2024-07-19T00:34:26.102167Z",
     "start_time": "2024-07-19T00:34:26.098107Z"
    }
   },
   "source": [
    "import torch.nn as nn\n",
    "from torchsummary import summary\n",
    "class CharRNN(nn.Module):\n",
    "    def __init__(self, vocab_size, embedding_dim, rnn_units, batch_size):\n",
    "        super(CharRNN, self).__init__()\n",
    "        self.batch_size = batch_size\n",
    "        self.rnn_units = rnn_units\n",
    "        self.embedding = nn.Embedding(vocab_size, embedding_dim)\n",
    "        self.lstm = nn.LSTM(embedding_dim, rnn_units, batch_first=True)\n",
    "        self.fc = nn.Linear(rnn_units, vocab_size)\n",
    "\n",
    "    def forward(self, x, hidden=None):\n",
    "        if hidden is None:\n",
    "            hidden = self.init_hidden(x.size(0))\n",
    "        x = self.embedding(x)\n",
    "        x, hidden = self.lstm(x, hidden)\n",
    "        x = self.fc(x)\n",
    "        return x, hidden\n",
    "\n",
    "    def init_hidden(self, batch_size):\n",
    "        return (torch.zeros(1, batch_size, self.rnn_units).to(device),\n",
    "                torch.zeros(1, batch_size, self.rnn_units).to(device))\n"
   ],
   "outputs": [],
   "execution_count": 42
  },
  {
   "cell_type": "code",
   "metadata": {
    "id": "XoPwxyAPEg6z",
    "ExecuteTime": {
     "end_time": "2024-07-19T00:37:59.886960Z",
     "start_time": "2024-07-19T00:37:59.864011Z"
    }
   },
   "source": [
    "model = CharRNN(vocab_size, embedding_dim, rnn_units, batch_size=BATCH_SIZE)\n",
    "device = torch.device('cuda' if torch.cuda.is_available() else 'cpu')\n",
    "model.to(device)\n"
   ],
   "outputs": [
    {
     "data": {
      "text/plain": [
       "CharRNN(\n",
       "  (embedding): Embedding(65, 256)\n",
       "  (lstm): LSTM(256, 1024, batch_first=True)\n",
       "  (fc): Linear(in_features=1024, out_features=65, bias=True)\n",
       ")"
      ]
     },
     "execution_count": 45,
     "metadata": {},
     "output_type": "execute_result"
    }
   ],
   "execution_count": 45
  },
  {
   "cell_type": "markdown",
   "metadata": {
    "id": "Npruiy2RAPkt"
   },
   "source": [
    "## Try the model"
   ]
  },
  {
   "cell_type": "code",
   "metadata": {
    "colab": {
     "base_uri": "https://localhost:8080/"
    },
    "id": "E4DCLA0GASL1",
    "outputId": "9ea5df9b-cc4f-422f-e19c-2f414aec96ca",
    "ExecuteTime": {
     "end_time": "2024-07-19T00:41:17.035110Z",
     "start_time": "2024-07-19T00:41:16.396201Z"
    }
   },
   "source": [
    "for input_example_batch, target_example_batch in dataloader:\n",
    "    input_example_batch, target_example_batch = input_example_batch.to(device), target_example_batch.to(device)\n",
    "    example_batch_predictions, _ = model(input_example_batch)\n",
    "    print(example_batch_predictions.shape, \"# (batch_size, sequence_length, vocab_size)\")\n",
    "    break"
   ],
   "outputs": [
    {
     "name": "stdout",
     "output_type": "stream",
     "text": [
      "torch.Size([64, 100, 65]) # (batch_size, sequence_length, vocab_size)\n"
     ]
    }
   ],
   "execution_count": 47
  },
  {
   "cell_type": "markdown",
   "metadata": {
    "id": "MWebJXU9CEPd"
   },
   "source": [
    "To get actual predictions from the model we need to sample from the output distribution, to get actual character indices. This distribution is defined by the logits over the character vocabulary."
   ]
  },
  {
   "cell_type": "code",
   "metadata": {
    "colab": {
     "base_uri": "https://localhost:8080/"
    },
    "id": "Y4Jgo-iECFWI",
    "outputId": "a9f44270-edfd-4a04-ac18-2aff6e2dde2c",
    "ExecuteTime": {
     "end_time": "2024-07-19T00:41:28.788734Z",
     "start_time": "2024-07-19T00:41:28.783644Z"
    }
   },
   "source": [
    "print('Prediction for the 1st letter of the batch 1st sequense:')\n",
    "print(example_batch_predictions[0, 0])"
   ],
   "outputs": [
    {
     "name": "stdout",
     "output_type": "stream",
     "text": [
      "Prediction for the 1st letter of the batch 1st sequense:\n",
      "tensor([ 0.0401, -0.0206,  0.0219,  0.0710,  0.0311, -0.0095,  0.0124, -0.0079,\n",
      "         0.0292,  0.1018,  0.0646, -0.0281,  0.0469,  0.0480,  0.0030,  0.0662,\n",
      "         0.0129,  0.0310, -0.0511,  0.0047,  0.0065,  0.0511, -0.0577, -0.0022,\n",
      "        -0.0701,  0.0361, -0.0090, -0.0182, -0.0607, -0.0246, -0.0343,  0.0300,\n",
      "         0.0792, -0.0069, -0.0371, -0.0047,  0.0062,  0.0391, -0.0204, -0.0584,\n",
      "         0.0083, -0.0049, -0.0144,  0.0233,  0.0368,  0.0125,  0.0641, -0.0099,\n",
      "        -0.0405,  0.0259,  0.0144, -0.0295,  0.0533, -0.0215, -0.0580,  0.0259,\n",
      "        -0.0427, -0.0441,  0.0565,  0.0520, -0.0086,  0.0144,  0.0163,  0.0492,\n",
      "        -0.0185], grad_fn=<SelectBackward0>)\n"
     ]
    }
   ],
   "execution_count": 48
  },
  {
   "cell_type": "code",
   "execution_count": 30,
   "metadata": {
    "colab": {
     "base_uri": "https://localhost:8080/"
    },
    "id": "0dOr0MwFHlRb",
    "outputId": "076c22e7-bb14-4eab-dfc3-e526b46144f8"
   },
   "outputs": [
    {
     "output_type": "stream",
     "name": "stdout",
     "text": [
      "tf.Tensor([[2 2 2 2 1]], shape=(1, 5), dtype=int64)\n"
     ]
    }
   ],
   "source": [
    "# Quick overview of how tf.random.categorical() works.\n",
    "\n",
    "# logits is 2-D Tensor with shape [batch_size, num_classes].\n",
    "# Each slice [i, :] represents the unnormalized log-probabilities for all classes.\n",
    "# In the example below we say that the probability for class \"0\" is low but the\n",
    "# probability for class \"2\" is much higher.\n",
    "tmp_logits = [\n",
    "  [-0.95, 0, 0.95],\n",
    "];\n",
    "\n",
    "# Let's generate 5 samples. Each sample is a class index. Class probabilities\n",
    "# are being taken into account (we expect to see more samples of class \"2\").\n",
    "tmp_samples = tf.random.categorical(\n",
    "    logits=tmp_logits,\n",
    "    num_samples=5\n",
    ")\n",
    "\n",
    "print(tmp_samples)"
   ]
  },
  {
   "cell_type": "code",
   "execution_count": 31,
   "metadata": {
    "colab": {
     "base_uri": "https://localhost:8080/"
    },
    "id": "JPzr0r4zCgS3",
    "outputId": "056fecb2-b4aa-462d-82c7-a13537d16c8e"
   },
   "outputs": [
    {
     "output_type": "execute_result",
     "data": {
      "text/plain": [
       "TensorShape([100, 1])"
      ]
     },
     "metadata": {},
     "execution_count": 31
    }
   ],
   "source": [
    "sampled_indices = tf.random.categorical(\n",
    "    logits=example_batch_predictions[0],\n",
    "    num_samples=1\n",
    ")\n",
    "\n",
    "sampled_indices.shape"
   ]
  },
  {
   "cell_type": "code",
   "execution_count": 32,
   "metadata": {
    "colab": {
     "base_uri": "https://localhost:8080/"
    },
    "id": "YaA7DclID8dz",
    "outputId": "92c89e56-6fd1-4bd0-82ee-6e03c4f5b0a8"
   },
   "outputs": [
    {
     "output_type": "execute_result",
     "data": {
      "text/plain": [
       "(100,)"
      ]
     },
     "metadata": {},
     "execution_count": 32
    }
   ],
   "source": [
    "sampled_indices = tf.squeeze(\n",
    "    input=sampled_indices,\n",
    "    axis=-1\n",
    ").numpy()\n",
    "\n",
    "sampled_indices.shape"
   ]
  },
  {
   "cell_type": "code",
   "execution_count": 33,
   "metadata": {
    "colab": {
     "base_uri": "https://localhost:8080/"
    },
    "id": "_ubGQ0gVENhB",
    "outputId": "c259ed47-953b-4034-d682-b5dc230749b5"
   },
   "outputs": [
    {
     "output_type": "execute_result",
     "data": {
      "text/plain": [
       "array([20, 53, 62, 27, 37, 46, 48, 24, 30, 17, 63,  1, 57, 23, 31, 22,  0,\n",
       "       50, 63, 58, 64, 35, 49, 16, 35, 64,  0, 59, 30, 24, 54, 48,  6, 42,\n",
       "       24, 56, 59, 27,  0, 56, 51, 27,  4, 30, 11, 48,  6, 16,  1,  0, 50,\n",
       "       37, 26, 51, 22, 17, 35, 39, 44, 22, 14, 18, 17,  8, 57, 38,  6, 56,\n",
       "       63, 47,  2, 55, 64, 27, 57, 20, 56, 17,  1, 42, 21,  2, 28, 20, 22,\n",
       "       57, 52, 48,  5, 34, 22,  6, 29, 10, 59,  4, 31, 23, 10, 52])"
      ]
     },
     "metadata": {},
     "execution_count": 33
    }
   ],
   "source": [
    "sampled_indices"
   ]
  },
  {
   "cell_type": "code",
   "execution_count": 34,
   "metadata": {
    "colab": {
     "base_uri": "https://localhost:8080/"
    },
    "id": "Gi9HOzw9EajS",
    "outputId": "5f42d084-a7d0-4ddd-c506-44578d7c2274"
   },
   "outputs": [
    {
     "output_type": "stream",
     "name": "stdout",
     "text": [
      "Input:\n",
      " ' puts his armour on.\\n\\nPRINCE EDWARD:\\nIf that be right which Warwick says is right,\\nThere is no wrong'\n",
      "\n",
      "Next char prediction:\n",
      " \"HoxOYhjLREy sKSJ\\nlytzWkDWz\\nuRLpj,dLruO\\nrmO&R;j,D \\nlYNmJEWafJBFE.sZ,ryi!qzOsHrE dI!PHJsnj'VJ,Q:u&SK:n\"\n"
     ]
    }
   ],
   "source": [
    "print('Input:\\n', repr(''.join(index2char[input_example_batch[0]])))\n",
    "print()\n",
    "print('Next char prediction:\\n', repr(''.join(index2char[sampled_indices])))"
   ]
  },
  {
   "cell_type": "code",
   "metadata": {
    "colab": {
     "base_uri": "https://localhost:8080/"
    },
    "id": "b87e0lsYMTsv",
    "outputId": "b4554cbb-4eac-48e1-a2d9-62979796d5b9",
    "ExecuteTime": {
     "end_time": "2024-07-19T00:42:01.345687Z",
     "start_time": "2024-07-19T00:42:01.332785Z"
    }
   },
   "source": [
    "for i, (input_idx, sample_idx) in enumerate(zip(input_example_batch[0][:5], sampled_indices[:5])):\n",
    "    print('Prediction {:2d}'.format(i))\n",
    "    print('  input: {} ({:s})'.format(input_idx, repr(index2char[input_idx])))\n",
    "    print('  next predicted: {} ({:s})'.format(target_idx, repr(index2char[sample_idx])))"
   ],
   "outputs": [
    {
     "ename": "NameError",
     "evalue": "name 'sampled_indices' is not defined",
     "output_type": "error",
     "traceback": [
      "\u001B[0;31m---------------------------------------------------------------------------\u001B[0m",
      "\u001B[0;31mNameError\u001B[0m                                 Traceback (most recent call last)",
      "Cell \u001B[0;32mIn[49], line 1\u001B[0m\n\u001B[0;32m----> 1\u001B[0m \u001B[38;5;28;01mfor\u001B[39;00m i, (input_idx, sample_idx) \u001B[38;5;129;01min\u001B[39;00m \u001B[38;5;28menumerate\u001B[39m(\u001B[38;5;28mzip\u001B[39m(input_example_batch[\u001B[38;5;241m0\u001B[39m][:\u001B[38;5;241m5\u001B[39m], \u001B[43msampled_indices\u001B[49m[:\u001B[38;5;241m5\u001B[39m])):\n\u001B[1;32m      2\u001B[0m     \u001B[38;5;28mprint\u001B[39m(\u001B[38;5;124m'\u001B[39m\u001B[38;5;124mPrediction \u001B[39m\u001B[38;5;132;01m{:2d}\u001B[39;00m\u001B[38;5;124m'\u001B[39m\u001B[38;5;241m.\u001B[39mformat(i))\n\u001B[1;32m      3\u001B[0m     \u001B[38;5;28mprint\u001B[39m(\u001B[38;5;124m'\u001B[39m\u001B[38;5;124m  input: \u001B[39m\u001B[38;5;132;01m{}\u001B[39;00m\u001B[38;5;124m (\u001B[39m\u001B[38;5;132;01m{:s}\u001B[39;00m\u001B[38;5;124m)\u001B[39m\u001B[38;5;124m'\u001B[39m\u001B[38;5;241m.\u001B[39mformat(input_idx, \u001B[38;5;28mrepr\u001B[39m(index2char[input_idx])))\n",
      "\u001B[0;31mNameError\u001B[0m: name 'sampled_indices' is not defined"
     ]
    }
   ],
   "execution_count": 49
  },
  {
   "cell_type": "markdown",
   "metadata": {
    "id": "LqcBufKEE_p6"
   },
   "source": [
    "## Train the model\n",
    "\n",
    "At this point the problem can be treated as a standard classification problem. Given the previous RNN state, and the input this time step, predict the class of the next character."
   ]
  },
  {
   "cell_type": "markdown",
   "metadata": {
    "id": "l4s0-PvrFub5"
   },
   "source": [
    "### Attach an optimizer, and a loss function"
   ]
  },
  {
   "cell_type": "code",
   "metadata": {
    "colab": {
     "base_uri": "https://localhost:8080/"
    },
    "id": "UOEUUm6JE95a",
    "outputId": "6de68dbe-83a0-4c08-b2e2-3cf4ac4c3133",
    "ExecuteTime": {
     "end_time": "2024-07-19T00:51:31.318097Z",
     "start_time": "2024-07-19T00:51:31.305396Z"
    }
   },
   "source": [
    "\n",
    "\n",
    "# Define the loss function\n",
    "loss_fn = nn.CrossEntropyLoss()\n",
    "\n",
    "# Example logits (output from the model) and labels (target)\n",
    "example_batch_predictions = torch.randn(BATCH_SIZE, sequence_length, vocab_size, requires_grad=True).to(device)  # Example model output\n",
    "target_example_batch = torch.randint(0, vocab_size, (BATCH_SIZE, sequence_length)).to(device)  # Example targets\n",
    "\n",
    "# Reshape logits and labels for calculating loss\n",
    "# PyTorch's CrossEntropyLoss expects input of shape (batch_size * sequence_length, vocab_size) and targets of shape (batch_size * sequence_length)\n",
    "example_batch_predictions = example_batch_predictions.view(-1, vocab_size)\n",
    "target_example_batch = target_example_batch.view(-1)\n",
    "\n",
    "# Calculate the loss\n",
    "example_batch_loss = loss_fn(example_batch_predictions, target_example_batch)\n",
    "\n",
    "print(\"Prediction shape: \", example_batch_predictions.shape, \" # (batch_size * sequence_length, vocab_size)\")\n",
    "print(\"scalar_loss:      \", example_batch_loss.item())\n"
   ],
   "outputs": [
    {
     "name": "stdout",
     "output_type": "stream",
     "text": [
      "Prediction shape:  torch.Size([6400, 65])  # (batch_size * sequence_length, vocab_size)\n",
      "scalar_loss:       4.6611328125\n"
     ]
    }
   ],
   "execution_count": 50
  },
  {
   "cell_type": "code",
   "metadata": {
    "id": "SXhJsB6eFgrJ",
    "ExecuteTime": {
     "end_time": "2024-07-19T00:53:38.775606Z",
     "start_time": "2024-07-19T00:53:36.594940Z"
    }
   },
   "source": [
    "import torch.optim as optim\n",
    "loss_fn = nn.CrossEntropyLoss()\n",
    "adam_optimizer = optim.Adam(model.parameters(), lr=0.001)\n",
    "\n",
    "# Example training step\n",
    "def train_step(input_text, target_text):\n",
    "    model.train()  # Set the model to training mode\n",
    "    hidden = model.init_hidden(BATCH_SIZE)\n",
    "    \n",
    "    # Zero the gradients\n",
    "    adam_optimizer.zero_grad()\n",
    "    \n",
    "    # Forward pass\n",
    "    output, hidden = model(input_text, hidden)\n",
    "    \n",
    "    # Reshape output and target for the loss function\n",
    "    output = output.view(-1, vocab_size)\n",
    "    target = target_text.view(-1)\n",
    "    \n",
    "    # Compute the loss\n",
    "    loss = loss_fn(output, target)\n",
    "    \n",
    "    # Backward pass and optimization\n",
    "    loss.backward()\n",
    "    adam_optimizer.step()\n",
    "    \n",
    "    return loss.item()\n",
    "\n",
    "# Example usage with the dataloader\n",
    "for input_example_batch, target_example_batch in dataloader:\n",
    "    input_example_batch, target_example_batch = input_example_batch.to(device), target_example_batch.to(device)\n",
    "    loss_value = train_step(input_example_batch, target_example_batch)\n",
    "    print(\"Loss: \", loss_value)\n",
    "    break  # Only run one batch for demonstration"
   ],
   "outputs": [
    {
     "name": "stdout",
     "output_type": "stream",
     "text": [
      "Loss:  4.184051513671875\n"
     ]
    }
   ],
   "execution_count": 51
  },
  {
   "cell_type": "markdown",
   "metadata": {
    "id": "MK3Cf-xZFwL4"
   },
   "source": [
    "### Configure checkpoints"
   ]
  },
  {
   "cell_type": "code",
   "metadata": {
    "id": "LUhXnHPJFy5q",
    "jupyter": {
     "is_executing": true
    },
    "ExecuteTime": {
     "start_time": "2024-07-19T01:04:04.075794Z"
    }
   },
   "source": [
    "EPOCHS=40\n",
    "# Custom function to save checkpoints\n",
    "def save_checkpoint(model, optimizer, epoch, loss, checkpoint_dir):\n",
    "    checkpoint_path = os.path.join(checkpoint_dir, f'ckpt_{epoch}.pt')\n",
    "    torch.save({\n",
    "        'epoch': epoch,\n",
    "        'model_state_dict': model.state_dict(),\n",
    "        'optimizer_state_dict': optimizer.state_dict(),\n",
    "        'loss': loss\n",
    "    }, checkpoint_path)\n",
    "    print(f'Saved checkpoint: {checkpoint_path}')\n",
    "checkpoint_dir = 'tmp/checkpoints'\n",
    "os.makedirs(checkpoint_dir, exist_ok=True)\n",
    "training_losses = []\n",
    "# Training loop\n",
    "for epoch in range(EPOCHS):\n",
    "    model.train()\n",
    "    epoch_loss = 0\n",
    "    for input_example_batch, target_example_batch in dataloader:\n",
    "        input_example_batch, target_example_batch = input_example_batch.to(device), target_example_batch.to(device)\n",
    "        adam_optimizer.zero_grad()\n",
    "        output, hidden = model(input_example_batch)\n",
    "        output = output.view(-1, vocab_size)\n",
    "        target_example_batch = target_example_batch.view(-1)\n",
    "        loss = loss_fn(output, target_example_batch)\n",
    "        loss.backward()\n",
    "        adam_optimizer.step()\n",
    "        epoch_loss += loss.item()\n",
    "\n",
    "    training_losses.append(epoch_loss / len(dataloader))\n",
    "    \n",
    "    # Save checkpoint at the end of the epoch\n",
    "    save_checkpoint(model, adam_optimizer, epoch, epoch_loss, checkpoint_dir)\n",
    "    print(f'Epoch {epoch + 1}/{EPOCHS}, Loss: {epoch_loss / len(dataloader)}')"
   ],
   "outputs": [],
   "execution_count": null
  },
  {
   "cell_type": "code",
   "execution_count": null,
   "metadata": {
    "id": "mLdnOyvzMggJ"
   },
   "outputs": [],
   "source": [
    "def render_training_history(training_history):\n",
    "    loss = training_history.history['loss']\n",
    "    plt.title('Loss')\n",
    "    plt.xlabel('Epoch')\n",
    "    plt.ylabel('Loss')\n",
    "    plt.plot(loss, label='Training set')\n",
    "    plt.legend()\n",
    "    plt.grid(linestyle='--', linewidth=1, alpha=0.5)\n",
    "    plt.show()"
   ]
  },
  {
   "cell_type": "code",
   "execution_count": null,
   "metadata": {
    "colab": {
     "base_uri": "https://localhost:8080/",
     "height": 295
    },
    "id": "4Ghveem_OQBV",
    "outputId": "f4fcc0aa-4509-4330-a88b-1f5863c354d2"
   },
   "outputs": [
    {
     "data": {
      "image/png": "[encoded data removed]",
      "text/plain": [
       "<Figure size 432x288 with 1 Axes>"
      ]
     },
     "metadata": {
      "tags": []
     },
     "output_type": "display_data"
    }
   ],
   "source": "render_training_history(training_losses)"
  },
  {
   "cell_type": "markdown",
   "metadata": {
    "id": "X-dhNP2OG2EM"
   },
   "source": [
    "## Generate text"
   ]
  },
  {
   "cell_type": "markdown",
   "metadata": {
    "id": "SU_YfP6sG3NC"
   },
   "source": [
    "### Restore the latest checkpoint\n",
    "\n",
    "To keep this prediction step simple, use a batch size of 1.\n",
    "\n",
    "Because of the way the RNN state is passed from timestep to timestep, the model only accepts a fixed batch size once built.\n",
    "\n",
    "To run the model with a different `batch_size`, we need to rebuild the model and restore the weights from the checkpoint."
   ]
  },
  {
   "cell_type": "code",
   "execution_count": null,
   "metadata": {
    "colab": {
     "base_uri": "https://localhost:8080/",
     "height": 34
    },
    "id": "BlG8o3wiG6f2",
    "outputId": "031b45e0-fcdf-4ab6-b7e9-e167b29800c9"
   },
   "outputs": [
    {
     "data": {
      "text/plain": [
       "'tmp/checkpoints/ckpt_40'"
      ]
     },
     "execution_count": 44,
     "metadata": {
      "tags": []
     },
     "output_type": "execute_result"
    }
   ],
   "source": [
    "tf.train.latest_checkpoint(checkpoint_dir)"
   ]
  },
  {
   "cell_type": "code",
   "execution_count": null,
   "metadata": {
    "id": "l7evN0LvH01P"
   },
   "outputs": [],
   "source": [
    "simplified_batch_size = 1\n",
    "\n",
    "model = build_model(vocab_size, embedding_dim, rnn_units, batch_size=1)\n",
    "\n",
    "model.load_weights(tf.train.latest_checkpoint(checkpoint_dir))\n",
    "\n",
    "model.build(tf.TensorShape([simplified_batch_size, None]))"
   ]
  },
  {
   "cell_type": "code",
   "execution_count": null,
   "metadata": {
    "colab": {
     "base_uri": "https://localhost:8080/",
     "height": 255
    },
    "id": "Y3eduDtZI9zQ",
    "outputId": "95ccdb2f-f059-4be2-ee85-3541f422c7ea"
   },
   "outputs": [
    {
     "name": "stdout",
     "output_type": "stream",
     "text": [
      "Model: \"sequential_2\"\n",
      "_________________________________________________________________\n",
      "Layer (type)                 Output Shape              Param #   \n",
      "=================================================================\n",
      "embedding_2 (Embedding)      (1, None, 256)            16640     \n",
      "_________________________________________________________________\n",
      "lstm_1 (LSTM)                (1, None, 1024)           5246976   \n",
      "_________________________________________________________________\n",
      "dense_1 (Dense)              (1, None, 65)             66625     \n",
      "=================================================================\n",
      "Total params: 5,330,241\n",
      "Trainable params: 5,330,241\n",
      "Non-trainable params: 0\n",
      "_________________________________________________________________\n"
     ]
    }
   ],
   "source": [
    "model.summary()"
   ]
  },
  {
   "cell_type": "markdown",
   "metadata": {
    "id": "euNvAtr4JC3A"
   },
   "source": [
    "### The prediction loop\n",
    "\n",
    "The following code block generates the text:\n",
    "\n",
    "- It Starts by choosing a start string, initializing the RNN state and setting the number of characters to generate.\n",
    "\n",
    "- Get the prediction distribution of the next character using the start string and the RNN state.\n",
    "\n",
    "- Then, use a categorical distribution to calculate the index of the predicted character. Use this predicted character as our next input to the model.\n",
    "\n",
    "- The RNN state returned by the model is fed back into the model so that it now has more context, instead than only one character. After predicting the next character, the modified RNN states are again fed back into the model, which is how it learns as it gets more context from the previously predicted characters.\n",
    "\n",
    "![Prediction loop](https://www.tensorflow.org/tutorials/text/images/text_generation_sampling.png)\n",
    "\n",
    "Image source: [Text generation with an RNN](https://www.tensorflow.org/tutorials/text/text_generation) notebook."
   ]
  },
  {
   "cell_type": "code",
   "execution_count": null,
   "metadata": {
    "id": "bOqdqGouJFf_"
   },
   "outputs": [],
   "source": [
    "# num_generate\n",
    "# - number of characters to generate.\n",
    "#\n",
    "# temperature\n",
    "# - Low temperatures results in more predictable text.\n",
    "# - Higher temperatures results in more surprising text.\n",
    "# - Experiment to find the best setting.\n",
    "def generate_text(model, start_string, num_generate = 1000, temperature=1.0):\n",
    "    # Evaluation step (generating text using the learned model)\n",
    "\n",
    "    # Converting our start string to numbers (vectorizing).\n",
    "    input_indices = [char2index[s] for s in start_string]\n",
    "    input_indices = tf.expand_dims(input_indices, 0)\n",
    "\n",
    "    # Empty string to store our results.\n",
    "    text_generated = []\n",
    "\n",
    "    # Here batch size == 1.\n",
    "    model.reset_states()\n",
    "    for char_index in range(num_generate):\n",
    "        predictions = model(input_indices)\n",
    "        # remove the batch dimension\n",
    "        predictions = tf.squeeze(predictions, 0)\n",
    "\n",
    "        # Using a categorical distribution to predict the character returned by the model.\n",
    "        predictions = predictions / temperature\n",
    "        predicted_id = tf.random.categorical(\n",
    "        predictions,\n",
    "        num_samples=1\n",
    "        )[-1,0].numpy()\n",
    "\n",
    "        # We pass the predicted character as the next input to the model\n",
    "        # along with the previous hidden state.\n",
    "        input_indices = tf.expand_dims([predicted_id], 0)\n",
    "\n",
    "        text_generated.append(index2char[predicted_id])\n",
    "\n",
    "    return (start_string + ''.join(text_generated))"
   ]
  },
  {
   "cell_type": "code",
   "execution_count": null,
   "metadata": {
    "colab": {
     "base_uri": "https://localhost:8080/",
     "height": 578
    },
    "id": "Z-8e8P60J5Pg",
    "outputId": "25240489-3063-4bdd-b203-ef14886d1e60"
   },
   "outputs": [
    {
     "name": "stdout",
     "output_type": "stream",
     "text": [
      "ROMEO: God do not burden me.\n",
      "\n",
      "GREMIO:\n",
      "I want the king that murders writ upon your tongue\n",
      "And born too supplict, but thanks\n",
      "We should to him and nothing can I never my\n",
      "brothers forbeard our words:\n",
      "Confess which have wine, and provide thee\n",
      "And see how did bestride our nobising duke,\n",
      "Whose souls more pleased, that men are worst challenge into a farmet together\n",
      "Let hate not so, for these own with him.\n",
      "\n",
      "Tailors:\n",
      "But now the blood of two,\n",
      "You and your accused find your wars.\n",
      "\n",
      "MENENIUS:\n",
      "Part not chastisement; hidest me well arm'd\n",
      "With eterpity of the mon poor house.\n",
      "\n",
      "Third Servant:\n",
      "When you are gentlemen, some interr'd\n",
      "As is my goods, God says King Richard say,\n",
      "As is the sin that she doth aim at you\n",
      "As I could pick my daughter woful side!\n",
      "Thou follow'st me in his life, against your husband's land:\n",
      "My lawful king is dead! wis gone to ET:\n",
      "Where is my woful? Was never man so bath\n",
      "Lord Her further.\n",
      "\n",
      "BRUTUS:\n",
      "Let me prepare from fair, nor ambition\n",
      "That spucish him our absence, like a grave is no more drea\n"
     ]
    }
   ],
   "source": [
    "# Generate the text with default temperature (1.0).\n",
    "print(generate_text(model, start_string=u\"ROMEO: \"))"
   ]
  },
  {
   "cell_type": "code",
   "execution_count": null,
   "metadata": {
    "colab": {
     "base_uri": "https://localhost:8080/",
     "height": 561
    },
    "id": "wq_NlwWJSdix",
    "outputId": "408ecde5-0646-4eda-902e-071e4f123417"
   },
   "outputs": [
    {
     "name": "stdout",
     "output_type": "stream",
     "text": [
      "ROMEO: hexen his virginallike.\n",
      "\n",
      "BRUTUS:\n",
      "For thyself\n",
      "Look, sirr; let not this innocent mine friends\n",
      "And hateful dogs as appeared, for it exced\n",
      "Exelling clouds with gentle knterpleaking:\n",
      "Their liberal dogs not his;\n",
      "For Yorkome help, ho! ay, I trow:\n",
      "it will we meet us king E:\n",
      "Needs friends, father, in that mad bessisking in\n",
      "Whom I might thrive is rich'd die by thee?\n",
      "\n",
      "CORIOLANUS:\n",
      "Brak how, gnow roaring with Sicils\n",
      "Up Jusul's dee Signior Katharina,\n",
      "And thyself shalt hear of that which the ear o' Lord:\n",
      "You are the first gape on me at first,\n",
      "Thou lovest me wash:\n",
      "By heaven, I'll haughthere.\n",
      "O, gentle marvantio; and beginn pluck'd\n",
      "But the christs and Riciards a\n",
      "LUUMEOfoke fray,\n",
      "And yet whick, in my doesder differences be runed by the king,\n",
      "Who in his monthry glorious regeal death.\n",
      "O, that she smooth thy cause?\n",
      "Was e turn be so\n",
      "to thine as thee won that Edward, king, widdwisk\n",
      "Ere te goil: deserve not thy mother leave for reason\n",
      "many an hourable fought, as they do,\n",
      "If you should esear mon-judgment,\n",
      "Nor \n"
     ]
    }
   ],
   "source": [
    "# Generate the text with higher temperature to get more unexpected results.\n",
    "print(generate_text(model, start_string=u\"ROMEO: \", temperature=1.5))"
   ]
  },
  {
   "cell_type": "markdown",
   "metadata": {
    "id": "0hh80MqEO_XI"
   },
   "source": [
    "## Save the model"
   ]
  },
  {
   "cell_type": "code",
   "execution_count": null,
   "metadata": {
    "id": "VPE98xa8PA-u"
   },
   "outputs": [],
   "source": [
    "model_name = 'text_generation_shakespeare_rnn.h5'\n",
    "model.save(model_name, save_format='h5')"
   ]
  },
  {
   "cell_type": "markdown",
   "metadata": {
    "id": "WYP08xbbTNKp"
   },
   "source": [
    "## Converting the model to web-format\n",
    "\n",
    "To use this model on the web we need to convert it into the format that will be understandable by [tensorflowjs](https://www.tensorflow.org/js). To do so we may use [tfjs-converter](https://github.com/tensorflow/tfjs/tree/master/tfjs-converter) as following:\n",
    "\n",
    "```\n",
    "tensorflowjs_converter --input_format keras \\\n",
    "  ./experiments/text_generation_shakespeare_rnn/text_generation_shakespeare_rnn.h5 \\\n",
    "  ./demos/public/models/text_generation_shakespeare_rnn\n",
    "```\n",
    "\n",
    "You find this experiment in the [Demo app](https://trekhleb.github.io/machine-learning-experiments) and play around with it right in you browser to see how the model performs in real life."
   ]
  }
 ],
 "metadata": {
  "accelerator": "GPU",
  "colab": {
   "name": "text_generation_shakespeare_rnn.ipynb",
   "provenance": [],
   "toc_visible": true
  },
  "kernelspec": {
   "display_name": "Python 3",
   "language": "python",
   "name": "python3"
  },
  "language_info": {
   "codemirror_mode": {
    "name": "ipython",
    "version": 3
   },
   "file_extension": ".py",
   "mimetype": "text/x-python",
   "name": "python",
   "nbconvert_exporter": "python",
   "pygments_lexer": "ipython3",
   "version": "3.7.6"
  }
 },
 "nbformat": 4,
 "nbformat_minor": 0
}
